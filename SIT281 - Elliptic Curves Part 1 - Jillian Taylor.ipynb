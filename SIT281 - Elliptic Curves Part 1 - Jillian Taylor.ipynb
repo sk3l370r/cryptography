{
 "cells": [
  {
   "cell_type": "markdown",
   "metadata": {
    "collapsed": false
   },
   "source": [
    "# Elliptic Curves Part 1\n",
    "\n"
   ]
  },
  {
   "cell_type": "code",
   "execution_count": 4,
   "metadata": {
    "collapsed": false
   },
   "outputs": [
    {
     "name": "stdout",
     "output_type": "stream",
     "text": [
      "Elliptic Curve: y^2 = x^3 + 0x + 5 (mod 19)\n",
      "P1 = (1, 14), P2 = (1, 14)\n",
      "Case: P1 = P2\n",
      "Slope m: (3 * x1 ** 2 + a) * inverse_mod(2 * y1, p) = 51\n",
      "x3: (m**2 - x1 - x2) % p = 15\n",
      "y3: (m * (x1 - x3) - y1) % p = 13\n",
      "The sum P1 + P2 = (15, 13) (mod 19)\n"
     ]
    }
   ],
   "source": [
    "def inverse_mod(a, p):\n",
    "    g, x, y = extended_gcd(a, p)\n",
    "    if g != 1:\n",
    "        return None  # modular inverse does not exist\n",
    "    else:\n",
    "        return x % p\n",
    "\n",
    "def extended_gcd(a, b):\n",
    "    if a == 0:\n",
    "        return b, 0, 1\n",
    "    else:\n",
    "        g, x, y = extended_gcd(b % a, a)\n",
    "        return g, y - (b // a) * x, x\n",
    "\n",
    "def elliptic_curve_operations(a, b, p, P1, P2):\n",
    "    def print_and_compute(expression, description, **variables):\n",
    "        result = eval(expression, {'inverse_mod': inverse_mod}, variables)\n",
    "        print(f\"{description}: {expression} = {result}\")\n",
    "        return result\n",
    "\n",
    "    x1, y1 = P1\n",
    "    x2, y2 = P2\n",
    "\n",
    "    print(f\"Elliptic Curve: y^2 = x^3 + {a}x + {b} (mod {p})\")\n",
    "    print(f\"P1 = {P1}, P2 = {P2}\")\n",
    "\n",
    "    if P1 == P2:\n",
    "        print(\"Case: P1 = P2\")\n",
    "        g = gcd(2 * y1, p)\n",
    "        if g == 1:\n",
    "            m = print_and_compute('(3 * x1 ** 2 + a) * inverse_mod(2 * y1, p)', 'Slope m', x1=x1, y1=y1, a=a, p=p)\n",
    "        else:\n",
    "            print(f\"Modular inverse does not exist for 2*y1; gcd is {g}. Operation cannot proceed.\")\n",
    "            return\n",
    "    else:\n",
    "        print(\"Case: P1 != P2\")\n",
    "        delta_x = x2 - x1\n",
    "        g = gcd(delta_x, p)\n",
    "        if g == 1:\n",
    "            m = print_and_compute('(y2 - y1) * inverse_mod(delta_x, p)', 'Slope m', x1=x1, y1=y1, x2=x2, y2=y2, p=p, delta_x=delta_x)\n",
    "        else:\n",
    "            print(f\"Modular inverse does not exist for x2 - x1; gcd({delta_x}, {p}) is {g}. Operation cannot proceed.\")\n",
    "            return\n",
    "\n",
    "    x3 = print_and_compute('(m**2 - x1 - x2) % p', 'x3', m=m, x1=x1, x2=x2, p=p)\n",
    "    y3 = print_and_compute('(m * (x1 - x3) - y1) % p', 'y3', m=m, x1=x1, x3=x3, y1=y1, p=p)\n",
    "    print(f\"The sum P1 + P2 = ({x3 % p}, {y3 % p}) (mod {p})\")\n",
    "\n",
    "# Example usage:\n",
    "# For the curve y^2 = x^3 - 2 (mod 7), and points P1 = (3, 2) and P2 = (5, 5)\n",
    "#elliptic_curve_operations(0, -2, 7, (3, 2), (5, 5))\n",
    "\n",
    "# For the curve y^2 = x^3 + 3 (mod 7), and points P1 = (1, 2) and P2 = (6, 3)\n",
    "#elliptic_curve_operations(0, 3, 7, (1, 2), (6, 3))\n",
    "\n",
    "# Test case with mod 35\n",
    "elliptic_curve_operations(0, 5, 19, (1, 14), (1, 14))\n"
   ]
  },
  {
   "cell_type": "markdown",
   "metadata": {
    "collapsed": false
   },
   "source": [
    "## Working with Elliptic Curves\n",
    "\n"
   ]
  },
  {
   "cell_type": "markdown",
   "metadata": {
    "collapsed": false
   },
   "source": [
    "12.2.3\n"
   ]
  },
  {
   "cell_type": "code",
   "execution_count": 5,
   "metadata": {
    "collapsed": false
   },
   "outputs": [
    {
     "name": "stdout",
     "output_type": "stream",
     "text": [
      "Left-hand side (lhs) after computing (y^2 - x^3) mod 101: 17\n",
      "When b=0, c=17 and the curve is y^2 = x^3 + 17 mod 101\n",
      "When c=0, b=92 and the curve is y^2 = x^3 + 92x mod 101\n",
      "Multiple combinations of b and c are possible.\n"
     ]
    }
   ],
   "source": [
    "# Sagemath program to find an elliptic curve for a point (x, y) mod p\n",
    "\n",
    "# Input point and mod value\n",
    "x = 43\n",
    "y = 21\n",
    "p = 101\n",
    "\n",
    "# Initial equation: y^2 = x^3 + bx + c (mod p)\n",
    "# y^2 - x^3 = bx + c (mod p)\n",
    "lhs = mod(y^2 - x^3, p)\n",
    "\n",
    "print(f\"Left-hand side (lhs) after computing (y^2 - x^3) mod {p}: {lhs}\")\n",
    "\n",
    "# Initialize flag for multiple combinations\n",
    "multiple_combinations = False\n",
    "\n",
    "# Case 1: Choose b = 0, solve for c\n",
    "b1 = 0\n",
    "c1 = lhs\n",
    "print(f\"When b=0, c={c1} and the curve is y^2 = x^3 + {c1} mod {p}\")\n",
    "\n",
    "# Case 2: Choose c = 0, solve for b\n",
    "c2 = 0\n",
    "\n",
    "# Check if gcd(x, p) = 1, i.e., x has a modular inverse mod p\n",
    "if gcd(x, p) == 1:\n",
    "    multiple_combinations = True\n",
    "    x_inv = inverse_mod(x, p)\n",
    "    b2 = mod(lhs * x_inv, p)\n",
    "    print(f\"When c=0, b={b2} and the curve is y^2 = x^3 + {b2}x mod {p}\")\n",
    "else:\n",
    "    print(\"The modular inverse does not exist; gcd(x, p) != 1.\")\n",
    "\n",
    "if not multiple_combinations:\n",
    "    print(\"Multiple combinations of b and c are not possible.\")\n",
    "else:\n",
    "    print(\"Multiple combinations of b and c are possible.\")\n"
   ]
  },
  {
   "cell_type": "markdown",
   "metadata": {
    "collapsed": false
   },
   "source": [
    "## Activity 3: Finding Points on Elliptic Curves\n",
    "\n"
   ]
  },
  {
   "cell_type": "code",
   "execution_count": 7,
   "metadata": {
    "collapsed": false
   },
   "outputs": [
    {
     "name": "stdout",
     "output_type": "stream",
     "text": [
      "The points (1, y) on the curve are: [(3, 2), (3, 11)]\n"
     ]
    }
   ],
   "source": [
    "# Import the relevant modules\n",
    "from sage.rings.finite_rings.integer_mod_ring import IntegerModRing\n",
    "\n",
    "# Set up the modulus and equation\n",
    "modulus = 13\n",
    "x_value = 3\n",
    "rhs_value = x_value^3 + (7*x_value) + 8  # This is x^3 + 3 + 12\n",
    "\n",
    "# Create the mod ring\n",
    "R = IntegerModRing(modulus)\n",
    "\n",
    "# Calculate the value under the square root\n",
    "value_to_sqrt = R(rhs_value)\n",
    "\n",
    "# Try to find the square root(s)\n",
    "try:\n",
    "    sqrt_values = value_to_sqrt.sqrt(all=True)\n",
    "    points = [(x_value, y) for y in sqrt_values]\n",
    "except ValueError:\n",
    "    points = []\n",
    "\n",
    "# Print out the points (if any)\n",
    "print(\"The points (1, y) on the curve are:\", points)\n"
   ]
  },
  {
   "cell_type": "code",
   "execution_count": 8,
   "metadata": {
    "collapsed": false
   },
   "outputs": [
    {
     "name": "stdout",
     "output_type": "stream",
     "text": [
      "The points on the curve are: [[2, 1], [2, 12], [5, 1], [5, 12], [6, 1], [6, 12]]\n"
     ]
    }
   ],
   "source": [
    "from sage.rings.finite_rings.integer_mod_ring import IntegerModRing\n",
    "\n",
    "# Initialize variables\n",
    "modulus = 13  # the field F_p\n",
    "a = 0  # curve parameter a\n",
    "b = 6  # curve parameter b\n",
    "\n",
    "# Create the mod ring\n",
    "R = IntegerModRing(modulus)\n",
    "\n",
    "# Initialize list to hold points\n",
    "all_points = []\n",
    "\n",
    "# Loop through all possible x values\n",
    "for x_value in range(modulus):\n",
    "    # Compute the right-hand side of the equation\n",
    "    rhs_value = x_value^3 + (a * x_value) + b\n",
    "\n",
    "    # Calculate the value under the square root\n",
    "    value_to_sqrt = R(rhs_value)\n",
    "\n",
    "    # Try to find the square root(s)\n",
    "    try:\n",
    "        sqrt_values = value_to_sqrt.sqrt(all=True)\n",
    "        points = [[x_value, y] for y in sqrt_values]\n",
    "        all_points.extend(points)\n",
    "    except ValueError:\n",
    "        continue\n",
    "\n",
    "# Output the points\n",
    "print(\"The points on the curve are:\", all_points)\n"
   ]
  },
  {
   "cell_type": "markdown",
   "metadata": {
    "collapsed": false
   },
   "source": [
    "### 12.3.2 part a\n",
    "\n"
   ]
  },
  {
   "cell_type": "code",
   "execution_count": 9,
   "metadata": {
    "collapsed": false
   },
   "outputs": [
    {
     "name": "stdout",
     "output_type": "stream",
     "text": [
      "Generated elliptic curve: y^2 = x^3 + 237x + 1377 (mod 4201)\n"
     ]
    }
   ],
   "source": [
    "def generate_prime(bits=16):\n",
    "    \"\"\"\n",
    "    Generate a random prime number of the specified number of bits using SageMath.\n",
    "    \"\"\"\n",
    "    while True:\n",
    "        p = random_prime(2**(bits-1), 2**bits - 1)\n",
    "        return p\n",
    "\n",
    "def generate_elliptic_curve(x, y):\n",
    "    \"\"\"\n",
    "    Generate an elliptic curve of the form y^2 = x^3 + ax + b (mod p) given a point (x, y).\n",
    "    \"\"\"\n",
    "    p = generate_prime(bits=16)  # Generate a random prime number with 128 bits\n",
    "\n",
    "    # Choose random values for a and b\n",
    "    a = randint(1, p // 2)\n",
    "    b = randint(1, p // 2)\n",
    "\n",
    "    # Ensure that (x, y) satisfies the elliptic curve equation\n",
    "    if y**2 % p != (x**3 + a*x + b) % p:\n",
    "        a = randint(1, p // 2)\n",
    "        b = randint(1, p // 2)\n",
    "\n",
    "    return a, b, p\n",
    "\n",
    "# Example usage:\n",
    "x = 5  # Replace with your desired x-coordinate\n",
    "y = 7  # Replace with your desired y-coordinate\n",
    "\n",
    "a, b, p = generate_elliptic_curve(x, y)\n",
    "print(f\"Generated elliptic curve: y^2 = x^3 + {a}x + {b} (mod {p})\")"
   ]
  },
  {
   "cell_type": "markdown",
   "metadata": {
    "collapsed": false
   },
   "source": [
    "### part b\n",
    "\n"
   ]
  },
  {
   "cell_type": "code",
   "execution_count": 10,
   "metadata": {
    "collapsed": false
   },
   "outputs": [
    {
     "name": "stdout",
     "output_type": "stream",
     "text": [
      "Generated elliptic curve: y^2 = x^3 + 17811x + 24651 (mod 56891)\n",
      "Second point Q: (46197, 23017)\n"
     ]
    }
   ],
   "source": [
    "def generate_prime(bits=16):\n",
    "    \"\"\"\n",
    "    Generate a random prime number of the specified number of bits.\n",
    "    \"\"\"\n",
    "    while True:\n",
    "        p = randint(2**(bits-1), 2**bits - 1)\n",
    "        if all(p % i != 0 for i in range(2, int(p ** 0.5) + 1)):\n",
    "            return p\n",
    "\n",
    "def add_points(a, b, p, P):\n",
    "    x1, y1 = P\n",
    "    if y1 == 0:\n",
    "        return \"Point at Infinity\"\n",
    "    \n",
    "    m = (3 * x1**2 + a) * pow(2 * y1, -1, p)\n",
    "    \n",
    "    xR = (m**2 - 2 * x1) % p\n",
    "    yR = (m * (x1 - xR) - y1) % p\n",
    "    \n",
    "    return (xR, yR)\n",
    "\n",
    "def generate_elliptic_curve(x, y):\n",
    "    \"\"\"\n",
    "    Generate an elliptic curve and a second point Q.\n",
    "    \"\"\"\n",
    "    p = generate_prime(bits=16)\n",
    "\n",
    "    a = randint(1, p // 2)\n",
    "    b = randint(1, p // 2)\n",
    "\n",
    "    while y**2 % p != (x**3 + a*x + b) % p:\n",
    "        a = randint(1, p // 2)\n",
    "        b = randint(1, p // 2)\n",
    "        \n",
    "    Q = add_points(a, b, p, (x, y))\n",
    "\n",
    "    return a, b, p, Q\n",
    "\n",
    "x = 5\n",
    "y = 7\n",
    "\n",
    "a, b, p, Q = generate_elliptic_curve(x, y)\n",
    "print(f\"Generated elliptic curve: y^2 = x^3 + {a}x + {b} (mod {p})\")\n",
    "print(f\"Second point Q: {Q}\")\n"
   ]
  },
  {
   "cell_type": "markdown",
   "metadata": {
    "collapsed": false
   },
   "source": [
    "### Extended \\- both together with an option for a manual Q.\n",
    "\n"
   ]
  },
  {
   "cell_type": "code",
   "execution_count": 11,
   "metadata": {
    "collapsed": false
   },
   "outputs": [
    {
     "name": "stdout",
     "output_type": "stream",
     "text": [
      "Generated elliptic curve: y^2 = x^3 + 4999x + 8726 (mod 33797)\n",
      "Second point Q: (28574, 16622)\n",
      "Result of addition: (6968, 17823)\n"
     ]
    }
   ],
   "source": [
    "def generate_prime(bits=16):\n",
    "    \"\"\"\n",
    "    Generate a random prime number of the specified number of bits.\n",
    "    \"\"\"\n",
    "    while True:\n",
    "        p = randint(2**(bits-1), 2**bits - 1)\n",
    "        if all(p % i != 0 for i in range(2, int(p ** 0.5) + 1)):\n",
    "            return p\n",
    "\n",
    "def generate_elliptic_curve(x, y):\n",
    "    \"\"\"\n",
    "    Generate an elliptic curve and a second point Q.\n",
    "    \"\"\"\n",
    "    p = generate_prime(bits=16)\n",
    "    a = randint(1, p // 2)\n",
    "    b = randint(1, p // 2)\n",
    "\n",
    "    while y**2 % p != (x**3 + a*x + b) % p:\n",
    "        a = randint(1, p // 2)\n",
    "        b = randint(1, p // 2)\n",
    "    \n",
    "    Q = add_points_on_curve(p, a, b, (x, y), (x, y))\n",
    "    \n",
    "    return a, b, p, Q\n",
    "\n",
    "def add_points_on_curve(p, a, b, P, Q):\n",
    "    \"\"\"\n",
    "    Add two points P and Q on an elliptic curve y^2 = x^3 + ax + b (mod p).\n",
    "    \"\"\"\n",
    "    x1, y1 = P\n",
    "    x2, y2 = Q\n",
    "    \n",
    "    if (pow(y1, 2, p) - (pow(x1, 3, p) + a * x1 + b)) % p != 0 or \\\n",
    "       (pow(y2, 2, p) - (pow(x2, 3, p) + a * x2 + b)) % p != 0:\n",
    "        return \"Error: One or both points are not on the curve.\"\n",
    "    \n",
    "    if x1 == x2 and y1 == -y2:\n",
    "        return \"Point at infinity\"\n",
    "    \n",
    "    if P == Q and y1 == 0:\n",
    "        return \"Point at infinity\"\n",
    "    \n",
    "    if P != Q:\n",
    "        m = (y2 - y1) * pow(x2 - x1, -1, p)\n",
    "    else:\n",
    "        m = (3 * pow(x1, 2, p) + a) * pow(2 * y1, -1, p)\n",
    "        \n",
    "    xR = (pow(m, 2, p) - x1 - x2) % p\n",
    "    yR = (-y1 + m * (x1 - xR)) % p\n",
    "    \n",
    "    return (xR, yR)\n",
    "\n",
    "# Example usage:\n",
    "x = 5  # Replace with your point P coordinates\n",
    "y = 7  # Replace with your point Q coordinates\n",
    "\n",
    "a, b, p, Q = generate_elliptic_curve(x, y)\n",
    "print(f\"Generated elliptic curve: y^2 = x^3 + {a}x + {b} (mod {p})\")\n",
    "print(f\"Second point Q: {Q}\")\n",
    "\n",
    "result = add_points_on_curve(p, a, b, (x, y), Q)\n",
    "print(f\"Result of addition: {result}\")\n"
   ]
  },
  {
   "cell_type": "markdown",
   "metadata": {
    "collapsed": false
   },
   "source": [
    "12.3.2\n"
   ]
  },
  {
   "cell_type": "code",
   "execution_count": 12,
   "metadata": {
    "collapsed": false
   },
   "outputs": [
    {
     "name": "stdout",
     "output_type": "stream",
     "text": [
      "Generated elliptic curve: y^2 = x^3 + 76x + 201 (mod 41213)\n",
      "Generated point Q: (30483, 3143)\n",
      "Result of addition: (15446, 39745)\n"
     ]
    },
    {
     "name": "stdout",
     "output_type": "stream",
     "text": [
      "Generated elliptic curve: y^2 = x^3 + 24456x + 4378 (mod 52937)\n",
      "Manual point Q: (24181, 22373)\n",
      "Result of addition: Error: One or both points are not on the curve.\n"
     ]
    }
   ],
   "source": [
    "def generate_prime(bits=16):\n",
    "    \"\"\"\n",
    "    Generate a random prime number of the specified number of bits.\n",
    "    \"\"\"\n",
    "    while True:\n",
    "        p = randint(2**(bits-1), 2**bits - 1)\n",
    "        if all(p % i != 0 for i in range(2, int(p ** 0.5) + 1)):\n",
    "            return p\n",
    "\n",
    "def generate_elliptic_curve(x, y, manual_Q=None):\n",
    "    \"\"\"\n",
    "    Generate an elliptic curve and a second point Q. If manual_Q is provided, use it as Q.\n",
    "    \"\"\"\n",
    "    p = generate_prime(bits=16)\n",
    "    a = randint(1, p // 2)\n",
    "    b = randint(1, p // 2)\n",
    "\n",
    "    while y**2 % p != (x**3 + a*x + b) % p:\n",
    "        a = randint(1, p // 2)\n",
    "        b = randint(1, p // 2)\n",
    "    \n",
    "    if manual_Q:\n",
    "        Q = manual_Q\n",
    "    else:\n",
    "        Q = add_points_on_curve(p, a, b, (x, y), (x, y))\n",
    "    \n",
    "    return a, b, p, Q\n",
    "\n",
    "def add_points_on_curve(p, a, b, P, Q):\n",
    "    \"\"\"\n",
    "    Add two points P and Q on an elliptic curve y^2 = x^3 + ax + b (mod p).\n",
    "    \"\"\"\n",
    "    x1, y1 = P\n",
    "    x2, y2 = Q\n",
    "    \n",
    "    if (pow(y1, 2, p) - (pow(x1, 3, p) + a * x1 + b)) % p != 0 or \\\n",
    "       (pow(y2, 2, p) - (pow(x2, 3, p) + a * x2 + b)) % p != 0:\n",
    "        return \"Error: One or both points are not on the curve.\"\n",
    "    \n",
    "    if x1 == x2 and y1 == -y2:\n",
    "        return \"Point at infinity\"\n",
    "    \n",
    "    if P == Q and y1 == 0:\n",
    "        return \"Point at infinity\"\n",
    "    \n",
    "    if P != Q:\n",
    "        m = (y2 - y1) * pow(x2 - x1, -1, p)\n",
    "    else:\n",
    "        m = (3 * pow(x1, 2, p) + a) * pow(2 * y1, -1, p)\n",
    "        \n",
    "    xR = (pow(m, 2, p) - x1 - x2) % p\n",
    "    yR = (-y1 + m * (x1 - xR)) % p\n",
    "    \n",
    "    return (xR, yR)\n",
    "\n",
    "# Example usage with generated Q:\n",
    "x = 2\n",
    "y = 19\n",
    "a, b, p, Q = generate_elliptic_curve(x, y)\n",
    "print(f\"Generated elliptic curve: y^2 = x^3 + {a}x + {b} (mod {p})\")\n",
    "print(f\"Generated point Q: {Q}\")\n",
    "result = add_points_on_curve(p, a, b, (x, y), Q)\n",
    "print(f\"Result of addition: {result}\")\n",
    "\n",
    "# Example usage with manual Q:\n",
    "manual_Q = (24181, 22373)\n",
    "a, b, p, Q = generate_elliptic_curve(x, y, manual_Q)\n",
    "print(f\"Generated elliptic curve: y^2 = x^3 + {a}x + {b} (mod {p})\")\n",
    "print(f\"Manual point Q: {Q}\")\n",
    "result = add_points_on_curve(p, a, b, (x, y), Q)\n",
    "print(f\"Result of addition: {result}\")"
   ]
  },
  {
   "cell_type": "code",
   "execution_count": 0,
   "metadata": {
    "collapsed": false
   },
   "outputs": [
   ],
   "source": [
   ]
  }
 ],
 "metadata": {
  "kernelspec": {
   "argv": [
    "sage-10.1",
    "--python",
    "-m",
    "sage.repl.ipython_kernel",
    "--matplotlib=inline",
    "-f",
    "{connection_file}"
   ],
   "display_name": "SageMath 10.1",
   "env": {
   },
   "language": "sagemath",
   "metadata": {
    "cocalc": {
     "description": "Open-source mathematical software system",
     "priority": 10,
     "url": "https://www.sagemath.org/"
    }
   },
   "name": "sage-10.1",
   "resource_dir": "/ext/jupyter/kernels/sage-10.1"
  },
  "language_info": {
   "codemirror_mode": {
    "name": "ipython",
    "version": 3
   },
   "file_extension": ".py",
   "mimetype": "text/x-python",
   "name": "python",
   "nbconvert_exporter": "python",
   "pygments_lexer": "ipython3",
   "version": "3.11.1"
  }
 },
 "nbformat": 4,
 "nbformat_minor": 4
}