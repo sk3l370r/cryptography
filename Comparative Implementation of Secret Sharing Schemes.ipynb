{
 "cells": [
  {
   "cell_type": "markdown",
   "metadata": {
    "collapsed": false
   },
   "source": [
    "# Secret Sharing\n",
    "\n"
   ]
  },
  {
   "cell_type": "markdown",
   "metadata": {
    "collapsed": false
   },
   "source": [
    "## Shamir Schemes\n",
    "\n"
   ]
  },
  {
   "cell_type": "markdown",
   "metadata": {
    "collapsed": false
   },
   "source": [
    "### Shamir Secret Sharing Example\n",
    "\n"
   ]
  },
  {
   "cell_type": "code",
   "execution_count": 3,
   "metadata": {
    "collapsed": false
   },
   "outputs": [
    {
     "name": "stdout",
     "output_type": "stream",
     "text": [
      "The secret is 3\n",
      "The polynomial is s(x) = 3 + 1*x + 0*x^2\n"
     ]
    }
   ],
   "source": [
    "# Define the field\n",
    "F = GF(211)\n",
    "\n",
    "# Define the Vandermonde matrix A\n",
    "A = Matrix(F, [[1, 1, 1], [1, 2, 4], [1, 3, 9]])\n",
    "\n",
    "# Define the output vector b\n",
    "b = vector(F, [4, 5, 6])\n",
    "\n",
    "# Solve the linear equation Ax = b\n",
    "x = A.solve_right(b)\n",
    "\n",
    "# Extract the coefficients\n",
    "s0, s1, s2 = x\n",
    "\n",
    "# The secret is s0\n",
    "print(f\"The secret is {s0}\")\n",
    "\n",
    "# The polynomial is s(x) = s0 + s1*x + s2*x^2\n",
    "print(f\"The polynomial is s(x) = {s0} + {s1}*x + {s2}*x^2\")\n"
   ]
  },
  {
   "cell_type": "markdown",
   "metadata": {
    "collapsed": false
   },
   "source": [
    "### Shamir Threshold Scheme \\(4,31\\) Example\n",
    "\n"
   ]
  },
  {
   "cell_type": "code",
   "execution_count": 4,
   "metadata": {
    "collapsed": false
   },
   "outputs": [
    {
     "name": "stdout",
     "output_type": "stream",
     "text": [
      "Matrix A is\n",
      "[ 1  1  1  1]\n",
      "[ 1  2  4  8]\n",
      "[ 1  3  9 27]\n",
      "[ 1  4 16 64]\n",
      "Matrix b is\n",
      "[ 8]\n",
      "[16]\n",
      "[32]\n",
      "[64]\n",
      "The Adj of A is\n",
      "[ 48 151  48 211]\n",
      "[171 114 139  22]\n",
      "[ 18 175  42 211]\n",
      "[221   6 217   2]\n",
      "det A is 12\n",
      "The polynomial p(x) = 150x^3 + 219x^2 + 85x + 0\n",
      "The secret is 0\n"
     ]
    }
   ],
   "source": [
    "# Import the matrix module from SageMath\n",
    "from sage.matrix.constructor import Matrix\n",
    "\n",
    "# Define the prime number and the known shares\n",
    "p = 223\n",
    "shares = [(1, 8), (2, 16), (3, 32), (4, 64)]\n",
    "\n",
    "# Construct matrix A and vector b\n",
    "A = []\n",
    "b = []\n",
    "\n",
    "for x, y in shares:\n",
    "    A.append([x**i for i in range(len(shares))])  # Modify the range to match the length of shares\n",
    "    b.append(y)\n",
    "\n",
    "A = Matrix(A)%p  # Apply modulo p to the matrix A\n",
    "print(f\"Matrix A is\\n{A}\")\n",
    "b = Matrix(b).transpose()%p  # Apply modulo p to the vector b\n",
    "print(f\"Matrix b is\\n{b}\")\n",
    "\n",
    "# Calculate the adjoint (adjugate) of A and the determinant modulo p\n",
    "A_adj = A.adjugate()%p\n",
    "print(f\"The Adj of A is\\n{A_adj}\")\n",
    "det_A = A.determinant()%p\n",
    "print(f\"det A is {det_A}\")\n",
    "\n",
    "# Calculate det_A inverse mod p\n",
    "det_A_inv = power_mod(det_A, -1, p)\n",
    "\n",
    "# Calculate the coefficients using the formula: coef = (adj(A) * b * det(A)^(-1)) mod p\n",
    "coefficients = (A_adj * b * det_A_inv) % p\n",
    "\n",
    "# Extract values for better readability\n",
    "s0, s1, s2, s3 = coefficients[0,0], coefficients[1,0], coefficients[2,0], coefficients[3,0]\n",
    "\n",
    "# Print the polynomial and the secret\n",
    "print(f\"The polynomial p(x) = {s3}x^3 + {s2}x^2 + {s1}x + {s0}\")\n",
    "print(f\"The secret is {s0}\")\n"
   ]
  },
  {
   "cell_type": "markdown",
   "metadata": {
    "collapsed": false
   },
   "source": [
    "### Shamir Threshold Scheme \\(3,n\\) Example With Missing Share\n",
    "\n"
   ]
  },
  {
   "cell_type": "code",
   "execution_count": 5,
   "metadata": {
    "collapsed": false
   },
   "outputs": [
    {
     "name": "stdout",
     "output_type": "stream",
     "text": [
      "Matrix A is\n",
      "[  1  18 133]\n",
      "[  1   7  49]\n",
      "[  1   6  36]\n",
      "Matrix b is\n",
      "[111]\n",
      "[159]\n",
      "[ 64]\n",
      "The Adj of A is\n",
      "[149 150 142]\n",
      "[ 13  94  84]\n",
      "[190  12 180]\n",
      "det A is 68\n",
      "The Inverse of A is\n",
      "[  9  77 106]\n",
      "[120  89 173]\n",
      "[123  52  16]\n",
      "The final matrix vector is\n",
      "[162]\n",
      "[152]\n",
      "[ 25]\n",
      "The polynomial p(x) = 25x^2 + 152x + 162\n",
      "The secret is 162\n",
      "The missing share (5, *) is (5, 19)\n"
     ]
    }
   ],
   "source": [
    "# Version is (3, 3)\n",
    "# Import the matrix module from SageMath\n",
    "from sage.matrix.constructor import Matrix\n",
    "\n",
    "# Define the prime number and the known shares\n",
    "p = 191\n",
    "shares = [(18, 111), (7, 159), (6, 64)]\n",
    "\n",
    "# Construct matrix A and vector b\n",
    "A = []\n",
    "b = []\n",
    "\n",
    "for x, y in shares:\n",
    "    A.append([x**i for i in range(3)])\n",
    "    b.append(y)\n",
    "\n",
    "A = Matrix(A)%p\n",
    "print(f\"Matrix A is\\n{A}\")\n",
    "b = Matrix(b).transpose()\n",
    "print(f\"Matrix b is\\n{b}\")\n",
    "\n",
    "# Calculate the adjoint (adjugate) of A and the determinant\n",
    "A_adj = A.adjugate()%p\n",
    "print(f\"The Adj of A is\\n{A_adj}\")\n",
    "det_A = A.determinant()%p\n",
    "det_A_inv = inverse_mod(det_A, p)\n",
    "print(f\"det A is {det_A_inv}\")\n",
    "A_inv = (A_adj * det_A_inv)%p\n",
    "print(f\"The Inverse of A is\\n{A_inv}\")\n",
    "sb = (A_inv*b)%p\n",
    "print(f\"The final matrix vector is\\n{sb}\")\n",
    "\n",
    "\n",
    "# Calculate det_A inverse mod p\n",
    "det_A_inv = power_mod(det_A, -1, p)\n",
    "\n",
    "# Calculate the coefficients using the formula: coef = (adj(A) * b * det(A)^(-1)) mod p\n",
    "coefficients = (A_adj * b * det_A_inv) % p\n",
    "\n",
    "# Extract values for better readability\n",
    "s0, s1, s2 = coefficients[0,0], coefficients[1,0], coefficients[2,0]\n",
    "\n",
    "# Print the polynomial and the secret\n",
    "print(f\"The polynomial p(x) = {s2}x^2 + {s1}x + {s0}\")\n",
    "print(f\"The secret is {s0}\")\n",
    "\n",
    "# To find the missing share (x, *)\n",
    "x = 5\n",
    "missing_share = (s0 + s1*x + s2*x**2) % p\n",
    "print(f\"The missing share ({x}, *) is ({x}, {missing_share})\")\n"
   ]
  },
  {
   "cell_type": "markdown",
   "metadata": {
    "collapsed": false
   },
   "source": [
    "### Shamir Secret Sharing Setup\n",
    "\n"
   ]
  },
  {
   "cell_type": "code",
   "execution_count": 6,
   "metadata": {
    "collapsed": false
   },
   "outputs": [
    {
     "name": "stdout",
     "output_type": "stream",
     "text": [
      "Prime p: 1237\n",
      "Polynomial s(x): 237*x^2 + 755*x + 1234\n"
     ]
    },
    {
     "data": {
      "text/plain": [
       "(1237, 237*x^2 + 755*x + 1234)"
      ]
     },
     "execution_count": 6,
     "metadata": {
     },
     "output_type": "execute_result"
    }
   ],
   "source": [
    "import random as py_random\n",
    "from sage.all import *\n",
    "\n",
    "def generate_shamir_scheme(t, w, m):\n",
    "    # Generate a prime p larger than both w and m\n",
    "    p = next_prime(max(w, m))\n",
    "    \n",
    "    # Coefficients for the polynomial, with s_0 = m\n",
    "    coeffs = [m]\n",
    "    \n",
    "    # Randomly select t-1 coefficients from Z_p\n",
    "    for i in range(1, t):\n",
    "        coeffs.append(py_random.randint(1, p-1))\n",
    "    \n",
    "    # Create the polynomial s(x) = m + s_1 * x + ... + s_{t-1} * x^{t-1}\n",
    "    R = PolynomialRing(GF(p), 'x')\n",
    "    s_x = R(coeffs)\n",
    "    \n",
    "    # Display the generated prime and polynomial\n",
    "    print(f\"Prime p: {p}\")\n",
    "    print(f\"Polynomial s(x): {s_x}\")\n",
    "    \n",
    "    return p, s_x\n",
    "\n",
    "# Example usage\n",
    "t = 3\n",
    "w = 8\n",
    "m = 1234\n",
    "generate_shamir_scheme(t, w, m)\n"
   ]
  },
  {
   "cell_type": "markdown",
   "metadata": {
    "collapsed": false
   },
   "source": [
    "### Shamir Polynomial Recovery\n",
    "\n"
   ]
  },
  {
   "cell_type": "code",
   "execution_count": 7,
   "metadata": {
    "collapsed": false
   },
   "outputs": [
    {
     "name": "stdout",
     "output_type": "stream",
     "text": [
      "Recovered polynomial s(x) modulo 227: 2*x^2 + 225*x + 4\n"
     ]
    },
    {
     "data": {
      "text/plain": [
       "2*x^2 + 225*x + 4"
      ]
     },
     "execution_count": 7,
     "metadata": {
     },
     "output_type": "execute_result"
    }
   ],
   "source": [
    "def recover_polynomial(t, shares, p):\n",
    "    # Define the base ring and polynomial ring\n",
    "    R = PolynomialRing(GF(p), 'x')\n",
    "    x = R.gen()\n",
    "    \n",
    "    # Initialize zero polynomial\n",
    "    s_x = 0\n",
    "    \n",
    "    # Lagrange interpolation\n",
    "    for j in range(t):\n",
    "        x_j, y_j = shares[j]\n",
    "        l_j = 1\n",
    "        for m in range(t):\n",
    "            x_m, _ = shares[m]\n",
    "            if m == j:\n",
    "                continue\n",
    "            l_j *= (x - x_m) / (x_j - x_m)\n",
    "        s_x += y_j * l_j\n",
    "    \n",
    "    # Display recovered polynomial\n",
    "    print(f\"Recovered polynomial s(x) modulo {p}: {s_x}\")\n",
    "    \n",
    "    return s_x\n",
    "\n",
    "# Example usage\n",
    "p = 227  # Example prime number\n",
    "t = 3  # Threshold\n",
    "shares = [(1, 4), (2, 8), (3, 16)]  # Example shares\n",
    "\n",
    "recover_polynomial(t, shares, p)\n"
   ]
  },
  {
   "cell_type": "markdown",
   "metadata": {
    "collapsed": false
   },
   "source": [
    "## Alternate Schemes and Shamir Lagrange Extensions\n",
    "\n"
   ]
  },
  {
   "cell_type": "markdown",
   "metadata": {
    "collapsed": false
   },
   "source": [
    "### 3D Implementation of Blakley's Geometric Secret Sharing Scheme\n",
    "\n"
   ]
  },
  {
   "cell_type": "code",
   "execution_count": 8,
   "metadata": {
    "collapsed": false
   },
   "outputs": [
    {
     "name": "stdout",
     "output_type": "stream",
     "text": [
      "Point Q: (45, 11, 153)\n",
      "Hyperplanes:\n",
      "z = 62x + 22y + 12\n",
      "z = 98x + 92y + 64\n",
      "z = 149x + 51y + 71\n",
      "z = 35x + 73y + 26\n",
      "z = 10x + 9y + 34\n"
     ]
    }
   ],
   "source": [
    "import random\n",
    "\n",
    "# Initialize variables\n",
    "p = 167  # prime number\n",
    "m = 45  # message\n",
    "w = 5  # number of shares\n",
    "\n",
    "# Create a point Q = (45, x2, x3) in R^3\n",
    "x2 = 11\n",
    "x3 = 153\n",
    "Q = (m, x2, x3)\n",
    "\n",
    "# Function to create a hyperplane equation passing through Q\n",
    "def create_hyperplane(Q, a, b):\n",
    "    (m, x2, x3) = Q\n",
    "    c = (a * m + b * x2 + x3) % p\n",
    "    return (a, b, c)\n",
    "\n",
    "# Generate w hyperplanes\n",
    "hyperplanes = []\n",
    "for i in range(w):\n",
    "    a = random.randint(1, p - 1)\n",
    "    b = random.randint(1, p - 1)\n",
    "    hyperplanes.append(create_hyperplane(Q, a, b))\n",
    "\n",
    "# Output the point Q and hyperplanes\n",
    "print(\"Point Q:\", Q)\n",
    "print(\"Hyperplanes:\")\n",
    "for h in hyperplanes:\n",
    "    print(f\"z = {h[0]}x + {h[1]}y + {h[2]}\")\n"
   ]
  },
  {
   "cell_type": "markdown",
   "metadata": {
    "collapsed": false
   },
   "source": [
    "### Matrix Formulation and Inversion in 3D Blakley's Secret Sharing Scheme\n",
    "\n"
   ]
  },
  {
   "cell_type": "code",
   "execution_count": 9,
   "metadata": {
    "collapsed": false
   },
   "outputs": [
    {
     "name": "stdout",
     "output_type": "stream",
     "text": [
      "Point Q: (45, 11, 153)\n",
      "Hyperplanes:\n",
      "z = 115x + 21y + 48\n",
      "z = 104x + 108y + 9\n",
      "z = 138x + 37y + 90\n",
      "z = 48x + 129y + 58\n",
      "z = 73x + 90y + 86\n",
      "Matrix M_1:\n",
      "[115  21  -1]\n",
      "[104 108  -1]\n",
      "[138  37  -1]\n",
      "Constant vector C_1: \n",
      "[119]\n",
      "[158]\n",
      "[ 77]\n",
      "Determinant of M_1: 6\n",
      "The Adj of M is\n",
      "[ 96 151  87]\n",
      "[133  23  11]\n",
      "[133 146  49]\n",
      "The inverse of Matrix M1:\n",
      "[ 75  71  21]\n",
      "[130 138  66]\n",
      "[130  41 127]\n"
     ]
    }
   ],
   "source": [
    "# Initialise variables\n",
    "p = 167  # Prime number for modulo operation\n",
    "m = 45  # Message (secret)\n",
    "t = 3  # Threshold\n",
    "n = 5  # Number of hyperplanes\n",
    "\n",
    "# Manually specify x2 and x3 for point Q\n",
    "x2 = 11\n",
    "x3 = 153\n",
    "\n",
    "# Initialize point Q = (m, x2, x3)\n",
    "Q = (m, x2, x3)\n",
    "\n",
    "# Generate random coefficients for hyperplanes\n",
    "random.seed()\n",
    "hyperplanes = []\n",
    "for i in range(n):\n",
    "    a = random.randint(1, p - 1)\n",
    "    b = random.randint(1, p - 1)\n",
    "    c = (a * m + b * x2 + x3) % p\n",
    "    hyperplanes.append((a, b, c))\n",
    "\n",
    "# Print generated hyperplanes\n",
    "print(f\"Point Q: {Q}\")\n",
    "print(\"Hyperplanes:\")\n",
    "for a, b, c in hyperplanes:\n",
    "    print(f\"z = {a}x + {b}y + {c}\")\n",
    "\n",
    "# Generate and print matrices Mi and constant vectors Ct for each group of t hyperplanes\n",
    "for i in range(0, len(hyperplanes) - t + 1, t):\n",
    "    M_i = Matrix(t, 3)\n",
    "    C_t = Matrix(t, 1)\n",
    "    for j in range(t):\n",
    "        a, b, c = hyperplanes[i + j]\n",
    "        M_i[j] = [a, b, -1]\n",
    "        C_t[j, 0] = -c % p\n",
    "    print(f\"Matrix M_{int(i/t) + 1}:\")\n",
    "    print(M_i)\n",
    "    print(f\"Constant vector C_{int(i/t) + 1}: \\n{C_t}\")\n",
    "    M_i_det = M_i.det()%p\n",
    "    print(f\"Determinant of M_{int(i/t) + 1}: {(M_i.det())%p}\")\n",
    "    M_adj = M_i.adjugate()%p\n",
    "    print(f\"The Adj of M is\\n{M_adj}\")\n",
    "    inv_M_i = (M_adj*M_i_det)%p\n",
    "    print(f\"The inverse of Matrix M{int(i/t) + 1}:\")\n",
    "    print(inv_M_i)\n"
   ]
  },
  {
   "cell_type": "markdown",
   "metadata": {
    "collapsed": false
   },
   "source": [
    "### Generating Invertible Sets of Hyperplanes in 3D Blakley's Scheme\n",
    "\n"
   ]
  },
  {
   "cell_type": "code",
   "execution_count": 10,
   "metadata": {
    "collapsed": false
   },
   "outputs": [
    {
     "name": "stdout",
     "output_type": "stream",
     "text": [
      "Point Q: (45, 11, 153)\n",
      "Hyperplanes:\n",
      "z = 139x + 71y + 8\n",
      "z = 153x + 82y + 91\n",
      "z = 62x + 127y + 165\n",
      "z = 115x + 126y + 34\n",
      "z = 61x + 77y + 71\n"
     ]
    }
   ],
   "source": [
    "# Initialize parameters\n",
    "p = 167  # Prime number for modulo operation\n",
    "m = 45  # Message (secret)\n",
    "w = 5  # Number of hyperplanes\n",
    "\n",
    "# Manually specify x2 and x3 for point Q\n",
    "x2 = 11\n",
    "x3 = 153\n",
    "\n",
    "# Initialize point Q = (m, x2, x3)\n",
    "Q = (m, x2, x3)\n",
    "\n",
    "# Initialize list to hold hyperplanes\n",
    "hyperplanes = []\n",
    "\n",
    "# Function to calculate the determinant modulo p for a matrix constructed from three planes\n",
    "def mod_det(plane1, plane2, plane3):\n",
    "    M = Matrix(3, 3)\n",
    "    M[0] = [plane1[0], plane1[1], -1]\n",
    "    M[1] = [plane2[0], plane2[1], -1]\n",
    "    M[2] = [plane3[0], plane3[1], -1]\n",
    "    return M.det() % p\n",
    "\n",
    "# Step 1: Generate first two planes that are not parallel and contain Q\n",
    "while len(hyperplanes) < 2:\n",
    "    a = randint(1, p - 1)\n",
    "    b = randint(1, p - 1)\n",
    "    c = (a * m + b * x2 + x3) % p\n",
    "    if len(hyperplanes) == 0 or (a, b) != (hyperplanes[0][0], hyperplanes[0][1]):\n",
    "        hyperplanes.append((a, b, c))\n",
    "\n",
    "# Step 2: Generate additional planes, ensuring that they form an invertible matrix with every pair of existing planes\n",
    "while len(hyperplanes) < w:\n",
    "    a = randint(1, p - 1)\n",
    "    b = randint(1, p - 1)\n",
    "    c = (a * m + b * x2 + x3) % p\n",
    "    valid = True\n",
    "    for i in range(len(hyperplanes)):\n",
    "        for j in range(i+1, len(hyperplanes)):\n",
    "            if gcd(mod_det(hyperplanes[i], hyperplanes[j], (a, b, c)), p) != 1:\n",
    "                valid = False\n",
    "                break\n",
    "        if not valid:\n",
    "            break\n",
    "    if valid:\n",
    "        hyperplanes.append((a, b, c))\n",
    "\n",
    "# Print the results\n",
    "print(f\"Point Q: {Q}\")\n",
    "print(\"Hyperplanes:\")\n",
    "for a, b, c in hyperplanes:\n",
    "    print(f\"z = {a}x + {b}y + {c}\")\n"
   ]
  },
  {
   "cell_type": "markdown",
   "metadata": {
    "collapsed": false
   },
   "source": [
    "### Lagrange Interpolation for Polynomial Reconstruction in Shamir's Scheme\n",
    "\n"
   ]
  },
  {
   "cell_type": "code",
   "execution_count": 11,
   "metadata": {
    "collapsed": false
   },
   "outputs": [
    {
     "name": "stdout",
     "output_type": "stream",
     "text": [
      "l_0(x) = 82*x^2 + 96*x + 10\n",
      "l_1(x) = 82*x^2 + 31*x + 6\n",
      "l_2(x) = 98*x^2 + 4*x + 116\n",
      "The secret polynomial is f(x) = 100*x^2 + 123*x + 128\n",
      "The secret is 128\n",
      "The missing share (2, *) is (2, 65)\n"
     ]
    }
   ],
   "source": [
    "R.<x> = PolynomialRing(GF(131))\n",
    "shares = [(6, 12), (10, 92), (8, 45)]\n",
    "t = len(shares)  # Number of shares, which is 3 in this case\n",
    "\n",
    "# Initialize list to hold Lagrange basis polynomials\n",
    "lagrange_basis_polys = []\n",
    "\n",
    "# Calculate Lagrange basis polynomials\n",
    "for j in range(t):\n",
    "    lj = R(1)  # Initialize lj as 1\n",
    "    xj, _ = shares[j]\n",
    "    for m in range(t):\n",
    "        if m != j:\n",
    "            xm, _ = shares[m]\n",
    "            lj *= (x - xm) / (xj - xm)\n",
    "    lagrange_basis_polys.append(lj)\n",
    "\n",
    "# Calculate the secret polynomial\n",
    "secret_poly = R(0)  # Initialize the secret polynomial as 0\n",
    "for j in range(t):\n",
    "    _, yj = shares[j]\n",
    "    secret_poly += yj * lagrange_basis_polys[j]\n",
    "\n",
    "# Print Lagrange basis polynomials\n",
    "for i, poly in enumerate(lagrange_basis_polys):\n",
    "    print(f\"l_{i}(x) = {poly}\")\n",
    "\n",
    "print(f\"The secret polynomial is f(x) = {secret_poly}\")\n",
    "\n",
    "# Extract and print the constant term, which is the secret\n",
    "print(f\"The secret is {secret_poly.constant_coefficient()}\")\n",
    "\n",
    "# To find the missing share (5, *)\n",
    "x = 2\n",
    "missing_share = (s0 + s1*x + s2*x**2) % p\n",
    "print(f\"The missing share ({x}, *) is ({x}, {missing_share})\")"
   ]
  },
  {
   "cell_type": "markdown",
   "metadata": {
    "collapsed": false
   },
   "source": [
    "### Hyperplane Intersection for Secret Reconstruction in 3D Space for Blakley's Secret Sharing Scheme\n",
    "\n"
   ]
  },
  {
   "cell_type": "code",
   "execution_count": 12,
   "metadata": {
    "collapsed": false
   },
   "outputs": [
    {
     "name": "stdout",
     "output_type": "stream",
     "text": [
      "[109 172  -1]\n",
      "[ 44 174  -1]\n",
      "[156 112  -1]\n",
      "[137]\n",
      "[149]\n",
      "[111]\n",
      "The determinant of M: 14\n",
      "The adjoint of M:\n",
      "[129  60   2]\n",
      "[ 79  47  65]\n",
      "[131 108 129]\n",
      "The inverse of M:\n",
      "[132 168  82]\n",
      "[183  17 182]\n",
      "[ 23  35 132]\n",
      "The point Q: [75]\n",
      "[56]\n",
      "[98]\n",
      "The secret x0 is 75\n"
     ]
    }
   ],
   "source": [
    "# Import SageMath modules\n",
    "from sage.matrix.constructor import Matrix\n",
    "\n",
    "# Initialize parameters\n",
    "p = 191  # Prime number for modulo operation\n",
    "n = 10  # Number of hyperplanes\n",
    "k = 3  # Threshold\n",
    "\n",
    "# Given keys for Alice, Bob, and Charles\n",
    "keys = [((109, 172), 54), ((44, 174), 42), ((156, 112), 80)]\n",
    "\n",
    "# Initialize matrix and constant vector for solving the system\n",
    "M = Matrix(k, 3)\n",
    "C = Matrix(k, 1)\n",
    "\n",
    "\n",
    "# Populate M and C from given keys\n",
    "for i, ((a, b), c) in enumerate(keys):\n",
    "    M[i] = [a, b, -1]\n",
    "    C[i, 0] = -c % p\n",
    "\n",
    "print(M)\n",
    "print(C)\n",
    "\n",
    "# Calculate the determinant mod p\n",
    "M_det = M.det() % p\n",
    "\n",
    "# Check that the determinant is not zero and is relatively prime to p\n",
    "if M_det == 0:\n",
    "    print(\"Determinant is zero. The matrix is singular.\")\n",
    "elif gcd(M_det, p) != 1:\n",
    "    print(f\"Determinant is not relatively prime to {p}. Cannot proceed.\")\n",
    "else:\n",
    "    # Calculate adjoint (adjugate) matrix mod p\n",
    "    M_adj = M.adjugate() % p\n",
    "\n",
    "    # Calculate inverse of determinant mod p\n",
    "    M_det_inv = inverse_mod(M_det, p)\n",
    "\n",
    "    # Compute the inverse of the matrix M\n",
    "    M_inv = (M_adj * M_det_inv) % p\n",
    "\n",
    "    # Compute the point Q\n",
    "    Q = (M_inv * C) % p\n",
    "\n",
    "    # Output\n",
    "    print(f\"The determinant of M: {M_det}\")\n",
    "    print(f\"The adjoint of M:\\n{M_adj}\")\n",
    "    print(f\"The inverse of M:\\n{M_inv}\")\n",
    "    print(f\"The point Q: {Q}\")\n",
    "    print(f\"The secret x0 is {Q[0,0]}\")\n"
   ]
  },
  {
   "cell_type": "code",
   "execution_count": 0,
   "metadata": {
    "collapsed": false
   },
   "outputs": [
   ],
   "source": [
   ]
  }
 ],
 "metadata": {
  "kernelspec": {
   "argv": [
    "sage-10.1",
    "--python",
    "-m",
    "sage.repl.ipython_kernel",
    "--matplotlib=inline",
    "-f",
    "{connection_file}"
   ],
   "display_name": "SageMath 10.1",
   "env": {
   },
   "language": "sagemath",
   "metadata": {
    "cocalc": {
     "description": "Open-source mathematical software system",
     "priority": 10,
     "url": "https://www.sagemath.org/"
    }
   },
   "name": "sage-10.1",
   "resource_dir": "/ext/jupyter/kernels/sage-10.1"
  },
  "language_info": {
   "codemirror_mode": {
    "name": "ipython",
    "version": 3
   },
   "file_extension": ".py",
   "mimetype": "text/x-python",
   "name": "python",
   "nbconvert_exporter": "python",
   "pygments_lexer": "ipython3",
   "version": "3.11.1"
  }
 },
 "nbformat": 4,
 "nbformat_minor": 4
}